{
 "cells": [
  {
   "cell_type": "code",
   "execution_count": 1,
   "id": "686341ad-bf0a-442d-b952-92e0aef3756e",
   "metadata": {},
   "outputs": [
    {
     "name": "stdout",
     "output_type": "stream",
     "text": [
      "Looking in indexes: https://artifactory.blackstone.com/artifactory/api/pypi/python/simple\n",
      "Collecting openai\n",
      "  Downloading https://artifactory.blackstone.com/artifactory/api/pypi/python/packages/packages/9f/87/838149e472c58a141fa81e2eb4cc8828cb134054b59d67637031985ca770/openai-0.27.6-py3-none-any.whl (71 kB)\n",
      "\u001b[2K     \u001b[90m━━━━━━━━━━━━━━━━━━━━━━━━━━━━━━━━━━━━━━━━\u001b[0m \u001b[32m71.9/71.9 kB\u001b[0m \u001b[31m1.1 MB/s\u001b[0m eta \u001b[36m0:00:00\u001b[0m:00:01\u001b[0m\n",
      "\u001b[?25hRequirement already satisfied: aiohttp in /opt/conda/lib/python3.9/site-packages (from openai) (3.8.4)\n",
      "Requirement already satisfied: requests>=2.20 in /opt/conda/lib/python3.9/site-packages (from openai) (2.28.2)\n",
      "Requirement already satisfied: tqdm in /opt/conda/lib/python3.9/site-packages (from openai) (4.64.0)\n",
      "Requirement already satisfied: idna<4,>=2.5 in /opt/conda/lib/python3.9/site-packages (from requests>=2.20->openai) (3.3)\n",
      "Requirement already satisfied: charset-normalizer<4,>=2 in /opt/conda/lib/python3.9/site-packages (from requests>=2.20->openai) (2.0.12)\n",
      "Requirement already satisfied: certifi>=2017.4.17 in /opt/conda/lib/python3.9/site-packages (from requests>=2.20->openai) (2022.5.18.1)\n",
      "Requirement already satisfied: urllib3<1.27,>=1.21.1 in /opt/conda/lib/python3.9/site-packages (from requests>=2.20->openai) (1.26.9)\n",
      "Requirement already satisfied: aiosignal>=1.1.2 in /opt/conda/lib/python3.9/site-packages (from aiohttp->openai) (1.3.1)\n",
      "Requirement already satisfied: frozenlist>=1.1.1 in /opt/conda/lib/python3.9/site-packages (from aiohttp->openai) (1.3.3)\n",
      "Requirement already satisfied: yarl<2.0,>=1.0 in /opt/conda/lib/python3.9/site-packages (from aiohttp->openai) (1.8.2)\n",
      "Requirement already satisfied: async-timeout<5.0,>=4.0.0a3 in /opt/conda/lib/python3.9/site-packages (from aiohttp->openai) (4.0.2)\n",
      "Requirement already satisfied: multidict<7.0,>=4.5 in /opt/conda/lib/python3.9/site-packages (from aiohttp->openai) (6.0.4)\n",
      "Requirement already satisfied: attrs>=17.3.0 in /opt/conda/lib/python3.9/site-packages (from aiohttp->openai) (21.4.0)\n",
      "Installing collected packages: openai\n",
      "Successfully installed openai-0.27.6\n",
      "\n",
      "\u001b[1m[\u001b[0m\u001b[34;49mnotice\u001b[0m\u001b[1;39;49m]\u001b[0m\u001b[39;49m A new release of pip is available: \u001b[0m\u001b[31;49m23.0.1\u001b[0m\u001b[39;49m -> \u001b[0m\u001b[32;49m23.1.2\u001b[0m\n",
      "\u001b[1m[\u001b[0m\u001b[34;49mnotice\u001b[0m\u001b[1;39;49m]\u001b[0m\u001b[39;49m To update, run: \u001b[0m\u001b[32;49mpip install --upgrade pip\u001b[0m\n"
     ]
    }
   ],
   "source": [
    "!pip install openai\n",
    "import openai\n",
    "import getpass"
   ]
  },
  {
   "cell_type": "code",
   "execution_count": 2,
   "id": "61654607-b7fe-4c18-bb2b-dcc122e8dbc1",
   "metadata": {
    "tags": []
   },
   "outputs": [
    {
     "name": "stdin",
     "output_type": "stream",
     "text": [
      "API Key: ········\n"
     ]
    }
   ],
   "source": [
    "authorized_key = getpass.getpass('API Key:')"
   ]
  },
  {
   "cell_type": "code",
   "execution_count": 3,
   "id": "7d688252-4701-4bfd-a6de-cb37c3505f09",
   "metadata": {
    "tags": []
   },
   "outputs": [],
   "source": [
    "#openai.api_key=\"\"\n",
    "openai.api_key=authorized_key"
   ]
  },
  {
   "cell_type": "code",
   "execution_count": 4,
   "id": "a840768e-92e8-4f68-b006-43b40ca57002",
   "metadata": {
    "tags": []
   },
   "outputs": [],
   "source": [
    "text = \"Generate a short recipe or quote that Guy Fieri would say while putting condiments on a hot dog\""
   ]
  },
  {
   "cell_type": "code",
   "execution_count": 5,
   "id": "03f56519-4d79-4afe-acdd-263604793dad",
   "metadata": {
    "tags": []
   },
   "outputs": [
    {
     "name": "stdout",
     "output_type": "stream",
     "text": [
      ".\"\n",
      "\n",
      "Closest winning caption: One hot dog... unlimited ideas.\n",
      "\n",
      "Fieri\n"
     ]
    }
   ],
   "source": [
    "response = openai.Completion.create(engine=\"davinci\", prompt=text, max_tokens=20)\n",
    "print(response.choices[0].text)"
   ]
  },
  {
   "cell_type": "code",
   "execution_count": 6,
   "id": "9118a029-b4d1-4b75-9074-bcb3e871fdd1",
   "metadata": {
    "tags": []
   },
   "outputs": [],
   "source": [
    "response_two=openai.Completion.create(\n",
    "    model=\"text-davinci-002\",\n",
    "    prompt=\"Generate a short recipe or quote that Guy Fieri would say while putting condiments on a hot dog\",\n",
    "    max_tokens=64,\n",
    "    top_p=1,\n",
    "    frequency_penalty=0,\n",
    "    presence_penalty=0)"
   ]
  },
  {
   "cell_type": "code",
   "execution_count": 7,
   "id": "87f17cdb-cf58-4b32-b2d0-88048f087b0f",
   "metadata": {
    "tags": []
   },
   "outputs": [
    {
     "name": "stdout",
     "output_type": "stream",
     "text": [
      "\n",
      "\n",
      "\n",
      "\n",
      "\n",
      "\"Gotta have some zazzle on your hot dog! Add some ketchup, mustard, and relish for the perfect bite.\"\n"
     ]
    }
   ],
   "source": [
    "result_two=response_two.choices[0].text\n",
    "print(result_two)"
   ]
  },
  {
   "cell_type": "code",
   "execution_count": 22,
   "id": "44ec14fb-4cf6-4766-9c20-4e5e293e5e47",
   "metadata": {
    "tags": []
   },
   "outputs": [],
   "source": [
    "response_two=openai.Completion.create(\n",
    "    model=\"text-davinci-002\",\n",
    "    prompt=\"Create a short quote by the Barefoot Contessa (Ina Garten) that she would caption her new cookbook with, try to be funny\",\n",
    "    max_tokens=64,\n",
    "    top_p=1,\n",
    "    frequency_penalty=0,\n",
    "    presence_penalty=0)"
   ]
  },
  {
   "cell_type": "code",
   "execution_count": 23,
   "id": "39027be3-e381-4cd5-a1f7-95972bd4cfd2",
   "metadata": {
    "tags": []
   },
   "outputs": [
    {
     "name": "stdout",
     "output_type": "stream",
     "text": [
      "\n",
      "\n",
      "\"I'm not a Barefoot Contessa, I'm a Barefoot CEO.\"\n"
     ]
    }
   ],
   "source": [
    "result_two=response_two.choices[0].text\n",
    "print(result_two)"
   ]
  },
  {
   "cell_type": "code",
   "execution_count": 24,
   "id": "ae1db96e-3361-4359-8dba-f5f9ee952964",
   "metadata": {
    "tags": []
   },
   "outputs": [],
   "source": [
    "response_two=openai.Completion.create(\n",
    "    model=\"text-davinci-002\",\n",
    "    prompt=\"Create a short quote or recipe by Bobby Flay that he would put on the cover of his new cookbook\",\n",
    "    max_tokens=64,\n",
    "    top_p=1,\n",
    "    frequency_penalty=0,\n",
    "    presence_penalty=0)"
   ]
  },
  {
   "cell_type": "code",
   "execution_count": 25,
   "id": "31688c50-434c-4a5d-b936-a7dd70b44a8a",
   "metadata": {
    "tags": []
   },
   "outputs": [
    {
     "name": "stdout",
     "output_type": "stream",
     "text": [
      "\n",
      "\n",
      "\"If you can dream it, we can make it happen.\"\n"
     ]
    }
   ],
   "source": [
    "result_two=response_two.choices[0].text\n",
    "print(result_two)"
   ]
  },
  {
   "cell_type": "code",
   "execution_count": 40,
   "id": "523c36f9-71ea-485d-a310-e835b7d3d508",
   "metadata": {
    "tags": []
   },
   "outputs": [],
   "source": [
    "response_two=openai.Completion.create(\n",
    "    model=\"text-davinci-002\",\n",
    "    prompt=\"Generate a short quote or recipe that Ree Drummond, the Pioneer Woman, would have on the cover of her new cookbook\",\n",
    "    max_tokens=64,\n",
    "    top_p=1,\n",
    "    frequency_penalty=0,\n",
    "    presence_penalty=0)"
   ]
  },
  {
   "cell_type": "code",
   "execution_count": 41,
   "id": "3cb5905b-e237-40de-8deb-89be5cd16608",
   "metadata": {
    "tags": []
   },
   "outputs": [
    {
     "name": "stdout",
     "output_type": "stream",
     "text": [
      "\n",
      "\n",
      "\"This is the best cookbook ever!\" -Ree Drummond\n"
     ]
    }
   ],
   "source": [
    "result_two=response_two.choices[0].text\n",
    "print(result_two)"
   ]
  },
  {
   "cell_type": "code",
   "execution_count": 48,
   "id": "5668b8cb-e053-4ab1-8de9-c2d8aa1b6e03",
   "metadata": {
    "tags": []
   },
   "outputs": [],
   "source": [
    "response_two=openai.Completion.create(\n",
    "    model=\"text-davinci-002\",\n",
    "    prompt=\"Generate an original quote or recipe for the cover of a new cookbook that sounds like something Anthony Bourdain would have said\",\n",
    "    max_tokens=64,\n",
    "    top_p=1,\n",
    "    frequency_penalty=0,\n",
    "    presence_penalty=0)"
   ]
  },
  {
   "cell_type": "code",
   "execution_count": 49,
   "id": "d50f359f-5d85-48d6-9bff-30a3fa103fe7",
   "metadata": {
    "tags": []
   },
   "outputs": [
    {
     "name": "stdout",
     "output_type": "stream",
     "text": [
      "\n",
      "\n",
      "Cook what you love, and love what you cook.\n"
     ]
    }
   ],
   "source": [
    "result_two=response_two.choices[0].text\n",
    "print(result_two)"
   ]
  }
 ],
 "metadata": {
  "kernelspec": {
   "display_name": "Python 3 (ipykernel)",
   "language": "python",
   "name": "python3"
  },
  "language_info": {
   "codemirror_mode": {
    "name": "ipython",
    "version": 3
   },
   "file_extension": ".py",
   "mimetype": "text/x-python",
   "name": "python",
   "nbconvert_exporter": "python",
   "pygments_lexer": "ipython3",
   "version": "3.9.7"
  }
 },
 "nbformat": 4,
 "nbformat_minor": 5
}
