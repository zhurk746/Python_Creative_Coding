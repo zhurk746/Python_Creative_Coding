{
 "cells": [
  {
   "cell_type": "markdown",
   "id": "f90cdf91",
   "metadata": {},
   "source": [
    "#### Python Basics"
   ]
  },
  {
   "cell_type": "code",
   "execution_count": null,
   "id": "0fb93eae",
   "metadata": {},
   "outputs": [],
   "source": [
    "# 1) What is the output of the following code and why? \n",
    "\n",
    "# var1 = 1\n",
    "# var2 = 2\n",
    "# var3 = \"3\"\n",
    "\n",
    "# print(var1 + var2 + var3)\n",
    "\n",
    "# a) 6 \n",
    "# b) 33 \n",
    "# c) 3 + 3 \n",
    "# d) Error \n",
    "\n",
    "# Answer: d) Error because var3 is a string and the other two are numbers"
   ]
  },
  {
   "cell_type": "code",
   "execution_count": 77,
   "id": "d3a8b809",
   "metadata": {},
   "outputs": [],
   "source": [
    "# 2) What is the output of the following code? \n",
    "\n",
    "# str = \"pynative\"\n",
    "\n",
    "# print (str[1:3])\n",
    "\n",
    "# a) py\n",
    "# b) yn\n",
    "# c) pyn\n",
    "# d) yna\n",
    "\n",
    "# Answer: d) yna because python index begins at 1"
   ]
  },
  {
   "cell_type": "code",
   "execution_count": null,
   "id": "0a6ddfdb",
   "metadata": {},
   "outputs": [],
   "source": [
    "# 3) What is the output of the following code? \n",
    "\n",
    "# var= \"James Bond\"\n",
    "# print(var[2::-1])\n",
    "\n",
    "# a) Jam\n",
    "# b) dno\n",
    "# c) maJ\n",
    "# d) dnoB semaJ\n",
    "\n",
    "# Answer- C) maJ because you start from the second element and jump back by 1"
   ]
  },
  {
   "cell_type": "code",
   "execution_count": 79,
   "id": "b08e3f88",
   "metadata": {},
   "outputs": [],
   "source": [
    "# 4) What is the output of the following code? \n",
    "\n",
    "# var = \"James\" * 2  * 3\n",
    "# print(var)\n",
    "\n",
    "# a) JamesJamesJamesJamesJamesJames\n",
    "# b) JamesJamesJamesJamesJames\n",
    "# c) Error: invalid syntax\n",
    "\n",
    "# Answer A- Take James 2 twices and then take that 3 times"
   ]
  },
  {
   "cell_type": "code",
   "execution_count": null,
   "id": "08199080",
   "metadata": {},
   "outputs": [],
   "source": [
    "# 5) Get rid of the non fruit item: \n",
    "\n",
    "# sweets = ['apple', 'bananas', 'cantelopes', 'donut']\n"
   ]
  },
  {
   "cell_type": "code",
   "execution_count": 84,
   "id": "6d0f746f",
   "metadata": {
    "scrolled": true
   },
   "outputs": [
    {
     "name": "stdout",
     "output_type": "stream",
     "text": [
      "['apple', 'bananas', 'cantelopes']\n"
     ]
    }
   ],
   "source": [
    "sweets = ['apple', 'bananas', 'cantelopes', 'donut']\n",
    "sweets.pop(-1)\n",
    "print(sweets)"
   ]
  },
  {
   "cell_type": "code",
   "execution_count": null,
   "id": "d9eab2cb",
   "metadata": {},
   "outputs": [],
   "source": [
    "# 6) Find \"santa\" in the variable \"house\" \n",
    "\n",
    "\n",
    "# room1=['gabe', 'greg']\n",
    "# room2=['michelle','santa','stacey']\n",
    "# room3=['adam','sam', 'melissa']\n",
    "# house= [room2, room1, room3] "
   ]
  },
  {
   "cell_type": "code",
   "execution_count": 88,
   "id": "b7ae089d",
   "metadata": {},
   "outputs": [
    {
     "name": "stdout",
     "output_type": "stream",
     "text": [
      "[['michelle', 'santa', 'stacey'], ['gabe', 'greg'], ['adam', 'sam', 'melissa']]\n",
      "1\n"
     ]
    }
   ],
   "source": [
    "room1=['gabe', 'greg']\n",
    "room2=['michelle','santa','stacey']\n",
    "room3=['adam','sam', 'melissa']\n",
    "house= [room2, room1, room3] \n",
    "print(house)\n",
    "print(house[0].index('santa'))"
   ]
  },
  {
   "cell_type": "code",
   "execution_count": null,
   "id": "4dc5e36b",
   "metadata": {},
   "outputs": [],
   "source": [
    "# 7) A dictionary is the best way to store a sequence of events like a recipe.\n",
    "\n",
    "# True or false? \n",
    "#  False- a dictionary is the best way to store key value pairs"
   ]
  },
  {
   "cell_type": "code",
   "execution_count": null,
   "id": "9ee4035c",
   "metadata": {},
   "outputs": [],
   "source": [
    "# 8) Remove all dupes \n",
    "# names = ['mary', 'bob', 'jessica', 'pierre', 'bob', 'jennifer', 'chris', \n",
    "#          'christina', 'tina', 'mary', 'tina', 'bob', 'michelle','jennifer']"
   ]
  },
  {
   "cell_type": "code",
   "execution_count": 90,
   "id": "b230094f",
   "metadata": {},
   "outputs": [
    {
     "name": "stdout",
     "output_type": "stream",
     "text": [
      "{'jessica', 'tina', 'chris', 'jennifer', 'pierre', 'michelle', 'bob', 'mary', 'christina'}\n"
     ]
    }
   ],
   "source": [
    "names= ['mary', 'bob', 'jessica', 'pierre', 'bob', 'jennifer', 'chris', 'christina', 'tina', 'mary', 'tina', 'bob', 'michelle','jennifer']\n",
    "new_names=set(names)\n",
    "print(new_names)"
   ]
  },
  {
   "cell_type": "code",
   "execution_count": null,
   "id": "f0b079ee",
   "metadata": {},
   "outputs": [],
   "source": [
    "# 9) What's the difference between = and == ? \n",
    "# = sets a variable equal to something and == checks type"
   ]
  },
  {
   "cell_type": "code",
   "execution_count": null,
   "id": "d2795a2e",
   "metadata": {},
   "outputs": [],
   "source": [
    "# See Python Poem below. I wanted to take a shorts rhyme/poem and then rewrite it by randomizing the placement of the words. \n",
    "# I'm able to generate a random list of numbers however looping through the list to index seems to break and I'm not clear why."
   ]
  },
  {
   "cell_type": "code",
   "execution_count": 1,
   "id": "56279430",
   "metadata": {},
   "outputs": [],
   "source": [
    "text = 'There was once a Countryman who possessed the most wonderful Goose you can imagine, for every day when he visited the nest, the Goose had laid a beautiful, glittering, golden egg. The Countryman took the eggs to market and soon began to get rich. But it was not long before he grew impatient with the Goose because she gave him only a single golden egg a day. He was not getting rich fast enough. Then one day, after he had finished counting his money, the idea came to him that he could get all the golden eggs at once by killing the Goose and cutting it open. But when the deed was done, not a single golden egg did he find, and his precious Goose was dead.Those who have plenty want more and so lose all they have.'"
   ]
  },
  {
   "cell_type": "code",
   "execution_count": 2,
   "id": "666076e2",
   "metadata": {},
   "outputs": [
    {
     "name": "stdout",
     "output_type": "stream",
     "text": [
      "['There', 'was', 'once', 'a', 'Countryman', 'who', 'possessed', 'the', 'most', 'wonderful', 'Goose', 'you', 'can', 'imagine,', 'for', 'every', 'day', 'when', 'he', 'visited', 'the', 'nest,', 'the', 'Goose', 'had', 'laid', 'a', 'beautiful,', 'glittering,', 'golden', 'egg.', 'The', 'Countryman', 'took', 'the', 'eggs', 'to', 'market', 'and', 'soon', 'began', 'to', 'get', 'rich.', 'But', 'it', 'was', 'not', 'long', 'before', 'he', 'grew', 'impatient', 'with', 'the', 'Goose', 'because', 'she', 'gave', 'him', 'only', 'a', 'single', 'golden', 'egg', 'a', 'day.', 'He', 'was', 'not', 'getting', 'rich', 'fast', 'enough.', 'Then', 'one', 'day,', 'after', 'he', 'had', 'finished', 'counting', 'his', 'money,', 'the', 'idea', 'came', 'to', 'him', 'that', 'he', 'could', 'get', 'all', 'the', 'golden', 'eggs', 'at', 'once', 'by', 'killing', 'the', 'Goose', 'and', 'cutting', 'it', 'open.', 'But', 'when', 'the', 'deed', 'was', 'done,', 'not', 'a', 'single', 'golden', 'egg', 'did', 'he', 'find,', 'and', 'his', 'precious', 'Goose', 'was', 'dead.Those', 'who', 'have', 'plenty', 'want', 'more', 'and', 'so', 'lose', 'all', 'they', 'have.']\n"
     ]
    }
   ],
   "source": [
    "new_text=text.split()\n",
    "print(new_text)"
   ]
  },
  {
   "cell_type": "code",
   "execution_count": 70,
   "id": "976642a7",
   "metadata": {},
   "outputs": [],
   "source": [
    "import random\n",
    "rand_list= [] "
   ]
  },
  {
   "cell_type": "code",
   "execution_count": 28,
   "id": "b1dd7728",
   "metadata": {},
   "outputs": [
    {
     "data": {
      "text/plain": [
       "138"
      ]
     },
     "execution_count": 28,
     "metadata": {},
     "output_type": "execute_result"
    }
   ],
   "source": [
    "len(new_text)"
   ]
  },
  {
   "cell_type": "code",
   "execution_count": 71,
   "id": "362640ba",
   "metadata": {},
   "outputs": [
    {
     "name": "stdout",
     "output_type": "stream",
     "text": [
      "[15, 52, 87, 105, 126, 88, 104, 1, 108, 10, 23, 80, 85, 52, 51, 3, 122, 103, 111, 8, 79, 129, 93, 68, 106, 115, 11, 94, 50, 15, 74, 75, 41, 19, 44, 13, 123, 130, 96, 101, 74, 76, 30, 78, 109, 94, 11, 84, 103, 78, 24, 70, 65, 6, 22, 108, 13, 137, 75, 31, 43, 71, 125, 14, 88, 94, 31, 41, 16, 87, 132, 135, 90, 78, 62, 48, 125, 19, 80, 111, 64, 105, 52, 119, 98, 114, 47, 50, 61, 35, 23, 93, 7, 57, 45, 59, 75, 51, 46, 135, 134, 118, 132, 133, 122, 83, 100, 88, 3, 100, 110, 14, 11, 59, 3, 96, 69, 92, 76, 95, 113, 115, 26, 51, 5, 75, 46, 95, 82, 88, 17, 66, 61, 31, 114, 133, 72, 100]\n"
     ]
    }
   ],
   "source": [
    "n=138\n",
    "for i in range(n):\n",
    "    rand_list.append(random.randint(0,138))\n",
    "print(rand_list)"
   ]
  },
  {
   "cell_type": "code",
   "execution_count": 30,
   "id": "5c9ca525",
   "metadata": {},
   "outputs": [
    {
     "data": {
      "text/plain": [
       "138"
      ]
     },
     "execution_count": 30,
     "metadata": {},
     "output_type": "execute_result"
    }
   ],
   "source": [
    "len(rand_list)"
   ]
  },
  {
   "cell_type": "code",
   "execution_count": 7,
   "id": "7419233d",
   "metadata": {},
   "outputs": [],
   "source": [
    "# my_poem=new_text[number_list[0]]+' '\n",
    "# my_poem+=new_text[rand_list[1]]+' '\n",
    "# my_poem+=new_text[rand_list[2]]+' '"
   ]
  },
  {
   "cell_type": "code",
   "execution_count": 8,
   "id": "68670ebb",
   "metadata": {},
   "outputs": [],
   "source": [
    "# print(my_poem)"
   ]
  },
  {
   "cell_type": "code",
   "execution_count": 9,
   "id": "865a865f",
   "metadata": {
    "scrolled": true
   },
   "outputs": [],
   "source": [
    "# len(number_list)"
   ]
  },
  {
   "cell_type": "code",
   "execution_count": 74,
   "id": "68125a92",
   "metadata": {},
   "outputs": [
    {
     "name": "stdout",
     "output_type": "stream",
     "text": [
      "The Golden Goose Haiku\n",
      "by Kasey Zhuravlev\n",
      "\n",
      "\n",
      "\n",
      "\n",
      "\n",
      "\n",
      "a a he money, \n",
      "was a his impatient Goose \n",
      "was egg a a getting \n"
     ]
    }
   ],
   "source": [
    "print(\"The Golden Goose Haiku\")\n",
    "print(\"by Kasey Zhuravlev\")\n",
    "print('\\n')\n",
    "poem=new_text[rand_list[15]]+' '\n",
    "poem+=new_text[rand_list[52]]+' '\n",
    "poem+=new_text[rand_list[87]]+' '\n",
    "poem+=new_text[rand_list[105]]+' '+'\\n'\n",
    "print('\\n')\n",
    "poem+=new_text[rand_list[126]]+' '\n",
    "poem+=new_text[rand_list[88]]+' '\n",
    "poem+=new_text[rand_list[104]]+' '\n",
    "poem+=new_text[rand_list[1]]+' '\n",
    "poem+=new_text[rand_list[10]]+' '+'\\n'\n",
    "print('\\n')\n",
    "poem+=new_text[rand_list[23]]+' '\n",
    "poem+=new_text[rand_list[80]]+' '\n",
    "poem+=new_text[rand_list[85]]+' '\n",
    "poem+=new_text[rand_list[52]]+' '\n",
    "poem+=new_text[rand_list[51]]+' '\n",
    "print(poem)"
   ]
  },
  {
   "cell_type": "code",
   "execution_count": 100,
   "id": "0b7234f3",
   "metadata": {
    "scrolled": true
   },
   "outputs": [
    {
     "name": "stdout",
     "output_type": "stream",
     "text": [
      "every\n",
      "impatient\n",
      "to\n",
      "it\n",
      "dead.Those\n",
      "him\n",
      "cutting\n",
      "was\n",
      "when\n",
      "Goose\n",
      "Goose\n",
      "finished\n",
      "idea\n",
      "impatient\n",
      "grew\n",
      "a\n",
      "his\n",
      "and\n",
      "was\n",
      "most\n",
      "had\n",
      "plenty\n",
      "all\n",
      "was\n",
      "open.\n",
      "single\n",
      "you\n",
      "the\n",
      "he\n",
      "every\n",
      "Then\n",
      "one\n",
      "to\n",
      "visited\n",
      "But\n",
      "imagine,\n",
      "precious\n",
      "want\n",
      "eggs\n",
      "the\n",
      "Then\n",
      "day,\n",
      "egg.\n",
      "he\n",
      "the\n",
      "the\n",
      "you\n",
      "the\n",
      "and\n",
      "he\n",
      "had\n",
      "getting\n",
      "a\n",
      "possessed\n",
      "the\n",
      "when\n",
      "imagine,\n",
      "have.\n",
      "one\n",
      "The\n",
      "rich.\n",
      "rich\n",
      "was\n",
      "for\n",
      "him\n",
      "the\n",
      "The\n",
      "to\n",
      "day\n",
      "to\n",
      "and\n",
      "all\n",
      "he\n",
      "he\n",
      "single\n",
      "long\n",
      "was\n",
      "visited\n",
      "finished\n",
      "was\n",
      "egg\n",
      "it\n",
      "impatient\n",
      "he\n",
      "once\n",
      "a\n",
      "not\n",
      "he\n",
      "a\n",
      "eggs\n",
      "Goose\n",
      "all\n",
      "the\n",
      "she\n",
      "it\n",
      "him\n",
      "one\n",
      "grew\n",
      "was\n",
      "all\n",
      "lose\n",
      "did\n",
      "and\n",
      "so\n",
      "his\n",
      "money,\n",
      "killing\n",
      "him\n",
      "a\n",
      "killing\n",
      "deed\n",
      "for\n",
      "you\n",
      "him\n",
      "a\n",
      "eggs\n",
      "not\n",
      "get\n",
      "day,\n",
      "golden\n",
      "not\n",
      "single\n",
      "a\n",
      "grew\n",
      "who\n",
      "one\n",
      "was\n",
      "golden\n",
      "his\n",
      "him\n",
      "when\n",
      "day.\n",
      "a\n",
      "The\n",
      "a\n",
      "so\n",
      "fast\n",
      "killing\n",
      "Golden Goose Randomized by Kasey Zhuravlev\n",
      "\n",
      "\n",
      "None\n"
     ]
    }
   ],
   "source": [
    "for i in range(len(rand_list)):\n",
    "    python_poem=print(new_text[rand_list[i]])\n",
    "#     python_poem=new_text[rand_list[i]]+' '\n",
    "print(\"Golden Goose Randomized by Kasey Zhuravlev\")\n",
    "print('\\n')\n",
    "print(python_poem)"
   ]
  },
  {
   "cell_type": "code",
   "execution_count": null,
   "id": "6a33c85c",
   "metadata": {},
   "outputs": [],
   "source": [
    "# print(my_poem)"
   ]
  },
  {
   "cell_type": "code",
   "execution_count": null,
   "id": "8426aacf",
   "metadata": {},
   "outputs": [],
   "source": [
    "# len(new_text)"
   ]
  }
 ],
 "metadata": {
  "kernelspec": {
   "display_name": "Python 3 (ipykernel)",
   "language": "python",
   "name": "python3"
  },
  "language_info": {
   "codemirror_mode": {
    "name": "ipython",
    "version": 3
   },
   "file_extension": ".py",
   "mimetype": "text/x-python",
   "name": "python",
   "nbconvert_exporter": "python",
   "pygments_lexer": "ipython3",
   "version": "3.9.7"
  }
 },
 "nbformat": 4,
 "nbformat_minor": 5
}
