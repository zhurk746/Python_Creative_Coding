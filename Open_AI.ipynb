{
 "cells": [
  {
   "cell_type": "code",
   "execution_count": 2,
   "id": "61654607-b7fe-4c18-bb2b-dcc122e8dbc1",
   "metadata": {
    "tags": []
   },
   "outputs": [
    {
     "name": "stdin",
     "output_type": "stream",
     "text": [
      "API Key: ········\n"
     ]
    }
   ],
   "source": [
    "authorized_key = getpass.getpass('API Key:')"
   ]
  },
  {
   "cell_type": "code",
   "execution_count": 3,
   "id": "7d688252-4701-4bfd-a6de-cb37c3505f09",
   "metadata": {
    "tags": []
   },
   "outputs": [],
   "source": [
    "openai.api_key=authorized_key"
   ]
  },
  {
   "cell_type": "code",
   "execution_count": 4,
   "id": "a840768e-92e8-4f68-b006-43b40ca57002",
   "metadata": {
    "tags": []
   },
   "outputs": [],
   "source": [
    "text = \"I'm planning to drive from Bozeman, MT to Glacier National Park. Please suggest a few stops I can make along the fastest route that are scenic and would have restaurants or cafes to stop at.\""
   ]
  },
  {
   "cell_type": "code",
   "execution_count": 5,
   "id": "03f56519-4d79-4afe-acdd-263604793dad",
   "metadata": {
    "tags": []
   },
   "outputs": [
    {
     "name": "stdout",
     "output_type": "stream",
     "text": [
      " How long will it take compared to the interstate system (I-90) road? Can I take\n"
     ]
    }
   ],
   "source": [
    "response = openai.Completion.create(engine=\"davinci\", prompt=text, max_tokens=20)\n",
    "print(response.choices[0].text)"
   ]
  },
  {
   "cell_type": "code",
   "execution_count": null,
   "id": "9118a029-b4d1-4b75-9074-bcb3e871fdd1",
   "metadata": {},
   "outputs": [],
   "source": [
    "response_two=openai.Completion.create(\n",
    "    model=\"text-davinci-002\",\n",
    "    prompt=\"Plan my drive along the fastest route from Bozeman, MT to Glacier National Park stopping in scenic locations, small s=\"\n",
    "    max_tokens=64,\n",
    "    top_p=1,\n",
    "    frequency_penalty=0,\n",
    "    presence_penalty=0)"
   ]
  }
 ],
 "metadata": {
  "kernelspec": {
   "display_name": "Python 3 (ipykernel)",
   "language": "python",
   "name": "python3"
  },
  "language_info": {
   "codemirror_mode": {
    "name": "ipython",
    "version": 3
   },
   "file_extension": ".py",
   "mimetype": "text/x-python",
   "name": "python",
   "nbconvert_exporter": "python",
   "pygments_lexer": "ipython3",
   "version": "3.9.7"
  }
 },
 "nbformat": 4,
 "nbformat_minor": 5
}
