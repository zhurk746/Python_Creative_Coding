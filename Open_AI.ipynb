{
 "cells": [
  {
   "cell_type": "code",
   "execution_count": 1,
   "id": "686341ad-bf0a-442d-b952-92e0aef3756e",
   "metadata": {},
   "outputs": [
    {
     "name": "stdout",
     "output_type": "stream",
     "text": [
      "Looking in indexes: https://artifactory.blackstone.com/artifactory/api/pypi/python/simple\n",
      "Collecting openai\n",
      "  Using cached https://artifactory.blackstone.com/artifactory/api/pypi/python/packages/packages/67/e0/58350f6b6c911fe77f7b4a37ec51ea477abf99ce936e2ed49cf3e5091c29/openai-0.27.4-py3-none-any.whl (70 kB)\n",
      "Requirement already satisfied: aiohttp in /opt/conda/lib/python3.9/site-packages (from openai) (3.8.4)\n",
      "Requirement already satisfied: requests>=2.20 in /opt/conda/lib/python3.9/site-packages (from openai) (2.28.2)\n",
      "Requirement already satisfied: tqdm in /opt/conda/lib/python3.9/site-packages (from openai) (4.64.0)\n",
      "Requirement already satisfied: charset-normalizer<4,>=2 in /opt/conda/lib/python3.9/site-packages (from requests>=2.20->openai) (2.0.12)\n",
      "Requirement already satisfied: certifi>=2017.4.17 in /opt/conda/lib/python3.9/site-packages (from requests>=2.20->openai) (2022.5.18.1)\n",
      "Requirement already satisfied: urllib3<1.27,>=1.21.1 in /opt/conda/lib/python3.9/site-packages (from requests>=2.20->openai) (1.26.9)\n",
      "Requirement already satisfied: idna<4,>=2.5 in /opt/conda/lib/python3.9/site-packages (from requests>=2.20->openai) (3.3)\n",
      "Requirement already satisfied: async-timeout<5.0,>=4.0.0a3 in /opt/conda/lib/python3.9/site-packages (from aiohttp->openai) (4.0.2)\n",
      "Requirement already satisfied: aiosignal>=1.1.2 in /opt/conda/lib/python3.9/site-packages (from aiohttp->openai) (1.3.1)\n",
      "Requirement already satisfied: yarl<2.0,>=1.0 in /opt/conda/lib/python3.9/site-packages (from aiohttp->openai) (1.8.2)\n",
      "Requirement already satisfied: attrs>=17.3.0 in /opt/conda/lib/python3.9/site-packages (from aiohttp->openai) (21.4.0)\n",
      "Requirement already satisfied: frozenlist>=1.1.1 in /opt/conda/lib/python3.9/site-packages (from aiohttp->openai) (1.3.3)\n",
      "Requirement already satisfied: multidict<7.0,>=4.5 in /opt/conda/lib/python3.9/site-packages (from aiohttp->openai) (6.0.4)\n",
      "Installing collected packages: openai\n",
      "Successfully installed openai-0.27.4\n"
     ]
    }
   ],
   "source": [
    "!pip install openai\n",
    "import openai\n",
    "import getpass"
   ]
  },
  {
   "cell_type": "code",
   "execution_count": 2,
   "id": "61654607-b7fe-4c18-bb2b-dcc122e8dbc1",
   "metadata": {
    "tags": []
   },
   "outputs": [
    {
     "name": "stdin",
     "output_type": "stream",
     "text": [
      "API Key: ········\n"
     ]
    }
   ],
   "source": [
    "authorized_key = getpass.getpass('API Key:')"
   ]
  },
  {
   "cell_type": "code",
   "execution_count": 3,
   "id": "7d688252-4701-4bfd-a6de-cb37c3505f09",
   "metadata": {
    "tags": []
   },
   "outputs": [],
   "source": [
    "openai.api_key=authorized_key"
   ]
  },
  {
   "cell_type": "code",
   "execution_count": 4,
   "id": "a840768e-92e8-4f68-b006-43b40ca57002",
   "metadata": {
    "tags": []
   },
   "outputs": [],
   "source": [
    "text = \"I'm planning to drive from Bozeman, MT to Glacier National Park. Please suggest a few stops I can make along the fastest route that are scenic and would have restaurants or cafes to stop at.\""
   ]
  },
  {
   "cell_type": "code",
   "execution_count": 5,
   "id": "03f56519-4d79-4afe-acdd-263604793dad",
   "metadata": {
    "tags": []
   },
   "outputs": [
    {
     "name": "stdout",
     "output_type": "stream",
     "text": [
      " How long will it take compared to the interstate system (I-90) road? Can I take\n"
     ]
    }
   ],
   "source": [
    "response = openai.Completion.create(engine=\"davinci\", prompt=text, max_tokens=20)\n",
    "print(response.choices[0].text)"
   ]
  },
  {
   "cell_type": "code",
   "execution_count": null,
   "id": "9118a029-b4d1-4b75-9074-bcb3e871fdd1",
   "metadata": {},
   "outputs": [],
   "source": [
    "response_two=openai.Completion.create(\n",
    "    model=\"text-davinci-002\",\n",
    "    prompt=\"Plan my drive along the fastest route from Bozeman, MT to Glacier National Park stopping in scenic locations, small s=\"\n",
    "    max_tokens=64,\n",
    "    top_p=1,\n",
    "    frequency_penalty=0,\n",
    "    presence_penalty=0)"
   ]
  }
 ],
 "metadata": {
  "kernelspec": {
   "display_name": "Python 3 (ipykernel)",
   "language": "python",
   "name": "python3"
  },
  "language_info": {
   "codemirror_mode": {
    "name": "ipython",
    "version": 3
   },
   "file_extension": ".py",
   "mimetype": "text/x-python",
   "name": "python",
   "nbconvert_exporter": "python",
   "pygments_lexer": "ipython3",
   "version": "3.9.7"
  }
 },
 "nbformat": 4,
 "nbformat_minor": 5
}
