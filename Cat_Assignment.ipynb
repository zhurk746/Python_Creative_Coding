{
 "cells": [
  {
   "cell_type": "code",
   "execution_count": 1,
   "id": "e132e8a5-85a1-459e-87f5-997921c0fc84",
   "metadata": {},
   "outputs": [],
   "source": [
    "# import requests and json - needed to make an API call\n",
    "import requests\n",
    "import json"
   ]
  },
  {
   "cell_type": "code",
   "execution_count": 21,
   "id": "762bc30e-b3c0-4a63-9946-f51ec66e3e72",
   "metadata": {},
   "outputs": [],
   "source": [
    "meow_url='https://meowfacts.herokuapp.com/?count=5' "
   ]
  },
  {
   "cell_type": "code",
   "execution_count": 22,
   "id": "7dda841e-2933-4958-8b3f-77de83963f96",
   "metadata": {},
   "outputs": [],
   "source": [
    "# calling the API with requests\n",
    "response = requests.get(meow_url)\n",
    "# creating a variable called data to hold the json formatted result\n",
    "meow_data=response.json()"
   ]
  },
  {
   "cell_type": "code",
   "execution_count": 23,
   "id": "4e50d26f-d5f6-4fd8-b916-77e47bda2e01",
   "metadata": {},
   "outputs": [
    {
     "data": {
      "text/plain": [
       "{'data': ['Cats must have fat in their diet because they cannot produce it on their own.',\n",
       "  'Cats, especially older cats, do get cancer. Many times this disease can be treated successfully.',\n",
       "  'People who are allergic to cats are actually allergic to cat saliva or to cat dander. If the resident cat is bathed regularly the allergic people tolerate it better.',\n",
       "  \"The way you treat kittens in the early stages of it's life will render it's personality traits later in life.\",\n",
       "  'A form of AIDS exists in cats.']}"
      ]
     },
     "execution_count": 23,
     "metadata": {},
     "output_type": "execute_result"
    }
   ],
   "source": [
    "meow_data"
   ]
  },
  {
   "cell_type": "code",
   "execution_count": 29,
   "id": "2f7e0667-482d-40ae-972a-4a21525138de",
   "metadata": {},
   "outputs": [],
   "source": [
    "meow_zero=meow_data['data'][0].split(' ')\n",
    "meow_one=meow_data['data'][1].split(' ')\n",
    "meow_two=meow_data['data'][2].split(' ')\n",
    "meow_three=meow_data['data'][3].split(' ')\n",
    "meow_four=meow_data['data'][4].split(' ')"
   ]
  },
  {
   "cell_type": "code",
   "execution_count": 30,
   "id": "083eb18f-32ce-49a0-a15f-5fda3593f3a8",
   "metadata": {},
   "outputs": [],
   "source": [
    "meow_list= meow_zero + meow_one + meow_two + meow_three + meow_four"
   ]
  },
  {
   "cell_type": "code",
   "execution_count": 31,
   "id": "a886926e-e61c-4c44-b5f5-6e0324d3dd63",
   "metadata": {},
   "outputs": [
    {
     "data": {
      "text/plain": [
       "['Cats',\n",
       " 'must',\n",
       " 'have',\n",
       " 'fat',\n",
       " 'in',\n",
       " 'their',\n",
       " 'diet',\n",
       " 'because',\n",
       " 'they',\n",
       " 'cannot',\n",
       " 'produce',\n",
       " 'it',\n",
       " 'on',\n",
       " 'their',\n",
       " 'own.',\n",
       " 'Cats,',\n",
       " 'especially',\n",
       " 'older',\n",
       " 'cats,',\n",
       " 'do',\n",
       " 'get',\n",
       " 'cancer.',\n",
       " 'Many',\n",
       " 'times',\n",
       " 'this',\n",
       " 'disease',\n",
       " 'can',\n",
       " 'be',\n",
       " 'treated',\n",
       " 'successfully.',\n",
       " 'People',\n",
       " 'who',\n",
       " 'are',\n",
       " 'allergic',\n",
       " 'to',\n",
       " 'cats',\n",
       " 'are',\n",
       " 'actually',\n",
       " 'allergic',\n",
       " 'to',\n",
       " 'cat',\n",
       " 'saliva',\n",
       " 'or',\n",
       " 'to',\n",
       " 'cat',\n",
       " 'dander.',\n",
       " 'If',\n",
       " 'the',\n",
       " 'resident',\n",
       " 'cat',\n",
       " 'is',\n",
       " 'bathed',\n",
       " 'regularly',\n",
       " 'the',\n",
       " 'allergic',\n",
       " 'people',\n",
       " 'tolerate',\n",
       " 'it',\n",
       " 'better.',\n",
       " 'The',\n",
       " 'way',\n",
       " 'you',\n",
       " 'treat',\n",
       " 'kittens',\n",
       " 'in',\n",
       " 'the',\n",
       " 'early',\n",
       " 'stages',\n",
       " 'of',\n",
       " \"it's\",\n",
       " 'life',\n",
       " 'will',\n",
       " 'render',\n",
       " \"it's\",\n",
       " 'personality',\n",
       " 'traits',\n",
       " 'later',\n",
       " 'in',\n",
       " 'life.',\n",
       " 'A',\n",
       " 'form',\n",
       " 'of',\n",
       " 'AIDS',\n",
       " 'exists',\n",
       " 'in',\n",
       " 'cats.']"
      ]
     },
     "execution_count": 31,
     "metadata": {},
     "output_type": "execute_result"
    }
   ],
   "source": [
    "meow_list"
   ]
  },
  {
   "cell_type": "code",
   "execution_count": 32,
   "id": "e04d5af9-1352-429a-b08f-12d76da806ca",
   "metadata": {},
   "outputs": [],
   "source": [
    "import matplotlib.pyplot as plt"
   ]
  },
  {
   "cell_type": "code",
   "execution_count": 43,
   "id": "cc97a85e-29ec-497d-a6f7-ce6c12fa3de5",
   "metadata": {},
   "outputs": [
    {
     "name": "stdout",
     "output_type": "stream",
     "text": [
      "Looking in indexes: https://artifactory.blackstone.com/artifactory/api/pypi/python/simple\n",
      "Collecting wordcloud\n",
      "  Downloading https://artifactory.blackstone.com/artifactory/api/pypi/python/packages/packages/74/4e/ced9ef5c7c3ccdd66bc48e60d867c053e8a94d0a00db658f46829441c679/wordcloud-1.8.2.2-cp39-cp39-manylinux_2_17_x86_64.manylinux2014_x86_64.whl (458 kB)\n",
      "\u001b[2K     \u001b[90m━━━━━━━━━━━━━━━━━━━━━━━━━━━━━━━━━━━━━━━\u001b[0m \u001b[32m458.6/458.6 kB\u001b[0m \u001b[31m5.8 MB/s\u001b[0m eta \u001b[36m0:00:00\u001b[0m00:01\u001b[0m\n",
      "\u001b[?25hRequirement already satisfied: numpy>=1.6.1 in /opt/conda/lib/python3.9/site-packages (from wordcloud) (1.23.5)\n",
      "Requirement already satisfied: pillow in /opt/conda/lib/python3.9/site-packages (from wordcloud) (9.1.1)\n",
      "Requirement already satisfied: matplotlib in /opt/conda/lib/python3.9/site-packages (from wordcloud) (3.5.2)\n",
      "Requirement already satisfied: fonttools>=4.22.0 in /opt/conda/lib/python3.9/site-packages (from matplotlib->wordcloud) (4.33.3)\n",
      "Requirement already satisfied: cycler>=0.10 in /opt/conda/lib/python3.9/site-packages (from matplotlib->wordcloud) (0.11.0)\n",
      "Requirement already satisfied: packaging>=20.0 in /opt/conda/lib/python3.9/site-packages (from matplotlib->wordcloud) (21.3)\n",
      "Requirement already satisfied: python-dateutil>=2.7 in /opt/conda/lib/python3.9/site-packages (from matplotlib->wordcloud) (2.8.2)\n",
      "Requirement already satisfied: kiwisolver>=1.0.1 in /opt/conda/lib/python3.9/site-packages (from matplotlib->wordcloud) (1.4.2)\n",
      "Requirement already satisfied: pyparsing>=2.2.1 in /opt/conda/lib/python3.9/site-packages (from matplotlib->wordcloud) (3.0.9)\n",
      "Requirement already satisfied: six>=1.5 in /opt/conda/lib/python3.9/site-packages (from python-dateutil>=2.7->matplotlib->wordcloud) (1.16.0)\n",
      "Installing collected packages: wordcloud\n",
      "Successfully installed wordcloud-1.8.2.2\n",
      "\n",
      "\u001b[1m[\u001b[0m\u001b[34;49mnotice\u001b[0m\u001b[1;39;49m]\u001b[0m\u001b[39;49m A new release of pip is available: \u001b[0m\u001b[31;49m23.0\u001b[0m\u001b[39;49m -> \u001b[0m\u001b[32;49m23.0.1\u001b[0m\n",
      "\u001b[1m[\u001b[0m\u001b[34;49mnotice\u001b[0m\u001b[1;39;49m]\u001b[0m\u001b[39;49m To update, run: \u001b[0m\u001b[32;49mpip install --upgrade pip\u001b[0m\n",
      "Note: you may need to restart the kernel to use updated packages.\n"
     ]
    }
   ],
   "source": [
    "pip install wordcloud"
   ]
  },
  {
   "cell_type": "code",
   "execution_count": null,
   "id": "2ae8978b-992b-440b-81d5-4c51ed5b64c3",
   "metadata": {},
   "outputs": [],
   "source": []
  },
  {
   "cell_type": "code",
   "execution_count": 44,
   "id": "978683fc-86b9-4c6c-a4ba-1820025535ad",
   "metadata": {},
   "outputs": [],
   "source": [
    "from wordcloud import WordCloud\n",
    "from collections import Counter\n",
    "word_could_dict=Counter(meow_list)\n",
    "wordcloud = WordCloud(width = 1000, height = 500).generate_from_frequencies(word_could_dict)\n",
    "\n",
    "plt.figure(figsize=(15,8))\n",
    "plt.imshow(wordcloud)\n",
    "plt.axis(\"off\")\n",
    "#plt.show()\n",
    "plt.savefig('Cat_WorldCloud.png', bbox_inches='tight')\n",
    "plt.close()"
   ]
  }
 ],
 "metadata": {
  "kernelspec": {
   "display_name": "Python 3 (ipykernel)",
   "language": "python",
   "name": "python3"
  },
  "language_info": {
   "codemirror_mode": {
    "name": "ipython",
    "version": 3
   },
   "file_extension": ".py",
   "mimetype": "text/x-python",
   "name": "python",
   "nbconvert_exporter": "python",
   "pygments_lexer": "ipython3",
   "version": "3.9.12"
  }
 },
 "nbformat": 4,
 "nbformat_minor": 5
}
