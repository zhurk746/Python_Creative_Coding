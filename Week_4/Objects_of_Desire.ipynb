{
 "cells": [
  {
   "cell_type": "code",
   "execution_count": 17,
   "id": "dd9a8df4",
   "metadata": {},
   "outputs": [],
   "source": [
    "# A class with two instance attributes\n",
    "class Cheese:\n",
    "\n",
    "    # initializer with instance attributes\n",
    "    def __init__(self, style, flavor, texture, name):\n",
    "        self.style = style\n",
    "        self.flavor = flavor\n",
    "        self.texture= texture\n",
    "        self.name= name\n",
    "        \n",
    "    #pair with wine     \n",
    "    def winePairing(self,wine):\n",
    "        print(\"I'm a {} cheese and I pair best with {}\".format(self.flavor, wine))\n",
    "    \n",
    "    def placeOrigin(self, origin):\n",
    "        print(\"I'm {} and I am from {}\".format(self.name, origin))\n",
    "    \n",
    "    def textureCompare(self):\n",
    "        if self.name=='cheddar':\n",
    "            print('I am the most firm cheese')\n",
    "        elif self.name=='brie':\n",
    "            print('I am the softest cheese')\n",
    "        else:\n",
    "            print('I am somewhere in between')"
   ]
  },
  {
   "cell_type": "code",
   "execution_count": 18,
   "id": "131928df",
   "metadata": {},
   "outputs": [],
   "source": [
    "cheddar=Cheese('natural cows milk', 'sharp', 'firm', 'cheddar')\n",
    "brie=Cheese('ripened cows milk','buttery','soft', 'brie')\n",
    "manchego=Cheese('spanish sheeps milk cheese', 'zesty', 'crumbly', 'manchego')"
   ]
  },
  {
   "cell_type": "code",
   "execution_count": 8,
   "id": "48af33e9",
   "metadata": {},
   "outputs": [
    {
     "name": "stdout",
     "output_type": "stream",
     "text": [
      "I'm a zesty cheese and I pair best with Rioja\n"
     ]
    }
   ],
   "source": [
    "manchego.winePairing('Rioja')"
   ]
  },
  {
   "cell_type": "code",
   "execution_count": 19,
   "id": "363ef85d",
   "metadata": {},
   "outputs": [
    {
     "name": "stdout",
     "output_type": "stream",
     "text": [
      "I'm cheddar and I am from Vermont\n"
     ]
    }
   ],
   "source": [
    "cheddar.placeOrigin('Vermont')"
   ]
  },
  {
   "cell_type": "code",
   "execution_count": 20,
   "id": "96b9118e",
   "metadata": {},
   "outputs": [
    {
     "name": "stdout",
     "output_type": "stream",
     "text": [
      "I am the softest cheese\n"
     ]
    }
   ],
   "source": [
    "brie.textureCompare()"
   ]
  }
 ],
 "metadata": {
  "kernelspec": {
   "display_name": "Python 3 (ipykernel)",
   "language": "python",
   "name": "python3"
  },
  "language_info": {
   "codemirror_mode": {
    "name": "ipython",
    "version": 3
   },
   "file_extension": ".py",
   "mimetype": "text/x-python",
   "name": "python",
   "nbconvert_exporter": "python",
   "pygments_lexer": "ipython3",
   "version": "3.9.7"
  }
 },
 "nbformat": 4,
 "nbformat_minor": 5
}
