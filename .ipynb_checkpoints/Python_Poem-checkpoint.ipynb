{
 "cells": [
  {
   "cell_type": "markdown",
   "id": "f90cdf91",
   "metadata": {},
   "source": [
    "#### Python Basics"
   ]
  },
  {
   "cell_type": "code",
   "execution_count": 4,
   "id": "56279430",
   "metadata": {},
   "outputs": [],
   "source": [
    "text = 'I\\'m in my Creative Coding Class thinking about what to do for my first assignment. I\\'m thinking I should split this text into a string to create a list and create a poem of random words.'"
   ]
  },
  {
   "cell_type": "code",
   "execution_count": 5,
   "id": "666076e2",
   "metadata": {},
   "outputs": [
    {
     "name": "stdout",
     "output_type": "stream",
     "text": [
      "[\"I'm\", 'in', 'my', 'Creative', 'Coding', 'Class', 'thinking', 'about', 'what', 'to', 'do', 'for', 'my', 'first', 'assignment.', \"I'm\", 'thinking', 'I', 'should', 'split', 'this', 'text', 'into', 'a', 'string', 'to', 'create', 'a', 'list', 'and', 'create', 'a', 'poem', 'of', 'random', 'words.']\n"
     ]
    }
   ],
   "source": [
    "new_text=text.split()\n",
    "print(new_text)"
   ]
  },
  {
   "cell_type": "code",
   "execution_count": 30,
   "id": "976642a7",
   "metadata": {},
   "outputs": [],
   "source": [
    "import random\n",
    "rand_list= [] "
   ]
  },
  {
   "cell_type": "code",
   "execution_count": 31,
   "id": "362640ba",
   "metadata": {},
   "outputs": [
    {
     "name": "stdout",
     "output_type": "stream",
     "text": [
      "[15, 35, 13, 24, 10, 3, 32, 9, 23, 25]\n"
     ]
    }
   ],
   "source": [
    "for i in range(0,10):\n",
    "    n=random.randint(0,36)\n",
    "    rand_list.append(n)\n",
    "print(rand_list)"
   ]
  },
  {
   "cell_type": "code",
   "execution_count": 33,
   "id": "7419233d",
   "metadata": {},
   "outputs": [],
   "source": [
    "my_poem=new_text[15]+' '\n",
    "my_poem+=new_text[35]+' '\n",
    "my_poem+=new_text[13]+' '\n",
    "my_poem+=new_text[24]+' '\n",
    "my_poem+=new_text[10]+' '\n",
    "my_poem+=new_text[3]+' '\n",
    "my_poem+=new_text[32]+' '\n",
    "my_poem+=new_text[9]+' '\n",
    "my_poem+=new_text[23]+' '\n",
    "my_poem+=new_text[25]+' '"
   ]
  },
  {
   "cell_type": "code",
   "execution_count": 34,
   "id": "6a33c85c",
   "metadata": {},
   "outputs": [
    {
     "name": "stdout",
     "output_type": "stream",
     "text": [
      "I'm words. first string do Creative poem to a to \n"
     ]
    }
   ],
   "source": [
    "print(my_poem)"
   ]
  },
  {
   "cell_type": "code",
   "execution_count": 28,
   "id": "8426aacf",
   "metadata": {},
   "outputs": [
    {
     "data": {
      "text/plain": [
       "36"
      ]
     },
     "execution_count": 28,
     "metadata": {},
     "output_type": "execute_result"
    }
   ],
   "source": [
    "len(new_text)"
   ]
  }
 ],
 "metadata": {
  "kernelspec": {
   "display_name": "Python 3 (ipykernel)",
   "language": "python",
   "name": "python3"
  },
  "language_info": {
   "codemirror_mode": {
    "name": "ipython",
    "version": 3
   },
   "file_extension": ".py",
   "mimetype": "text/x-python",
   "name": "python",
   "nbconvert_exporter": "python",
   "pygments_lexer": "ipython3",
   "version": "3.9.7"
  }
 },
 "nbformat": 4,
 "nbformat_minor": 5
}
