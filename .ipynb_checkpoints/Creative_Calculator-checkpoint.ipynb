{
 "cells": [
  {
   "cell_type": "code",
   "execution_count": 1,
   "id": "ba0d5a3a",
   "metadata": {},
   "outputs": [],
   "source": [
    "# 1) Iterate through list and print the key \n",
    "\n",
    "# fruit_basket = {'apple': 1, 'bananas': 2, 'cantelopes': 3, 'dates': 4, 'figs': 5, 'grapes': 6, 'tangerines': 7, 'watermelon': 8, 'avocado': 9, 'strawberries': 1\n"
   ]
  },
  {
   "cell_type": "code",
   "execution_count": 2,
   "id": "f4a7957c",
   "metadata": {},
   "outputs": [],
   "source": [
    "fruit_basket = {'apple': 1, 'bananas': 2, 'cantelopes': 3, 'dates': 4, 'figs': 5, 'grapes': 6, 'tangerines': 7, 'watermelon': 8, 'avocado': 9, 'strawberries': 10}"
   ]
  },
  {
   "cell_type": "code",
   "execution_count": 3,
   "id": "d619a908",
   "metadata": {},
   "outputs": [
    {
     "name": "stdout",
     "output_type": "stream",
     "text": [
      "apple\n",
      "bananas\n",
      "cantelopes\n",
      "dates\n",
      "figs\n",
      "grapes\n",
      "tangerines\n",
      "watermelon\n",
      "avocado\n",
      "strawberries\n"
     ]
    }
   ],
   "source": [
    "for key, value in fruit_basket.items():\n",
    "    print(key)"
   ]
  },
  {
   "cell_type": "code",
   "execution_count": 4,
   "id": "52b59af6",
   "metadata": {},
   "outputs": [],
   "source": [
    "# 2) Iterate through list and print the value "
   ]
  },
  {
   "cell_type": "code",
   "execution_count": 5,
   "id": "c41ab911",
   "metadata": {},
   "outputs": [
    {
     "name": "stdout",
     "output_type": "stream",
     "text": [
      "1\n",
      "2\n",
      "3\n",
      "4\n",
      "5\n",
      "6\n",
      "7\n",
      "8\n",
      "9\n",
      "10\n"
     ]
    }
   ],
   "source": [
    "for key, value in fruit_basket.items():\n",
    "    print(value)"
   ]
  },
  {
   "cell_type": "code",
   "execution_count": 6,
   "id": "9d438a3c",
   "metadata": {},
   "outputs": [],
   "source": [
    "# 5) Select the statements that are true: \n",
    "\n",
    "\n",
    "# a) A Python function can return only a single value\n",
    "# b) A function can take an unlimited number of arguments.\n",
    "# c) A Python function can return multiple values\n",
    "# d) Python function doesn’t return anything unless and until you add a return statement\n",
    "\n",
    "#Answers: b and c are true"
   ]
  },
  {
   "cell_type": "code",
   "execution_count": 7,
   "id": "e5280d5f",
   "metadata": {},
   "outputs": [],
   "source": [
    "# 6)Python function always returns a value\n",
    "\n",
    "# True or False and why? \n",
    "\n",
    "#False- only return a value if defined within return statement"
   ]
  },
  {
   "cell_type": "code",
   "execution_count": 8,
   "id": "57446f71",
   "metadata": {},
   "outputs": [],
   "source": [
    "# 7) Given the nested if-else structure below, what will be the value of x after code execution completes\n",
    "\n",
    "# x = 0\n",
    "# a = 0\n",
    "# b = -5\n",
    "# if a > 0:\n",
    "#     if b < 0: \n",
    "#         x = x + 5 \n",
    "#     elif a > 5:\n",
    "#         x = x + 4\n",
    "#     else:\n",
    "#         x = x + 3\n",
    "# else:\n",
    "#     x = x + 2\n",
    "# print(x)\n",
    "\n",
    "# X will be equal to two because original a>0 is false"
   ]
  },
  {
   "cell_type": "code",
   "execution_count": 9,
   "id": "9139251a",
   "metadata": {},
   "outputs": [],
   "source": [
    "# 8) What is the output of the following if statement and why? \n",
    "\n",
    "\n",
    "# a, b = 12, 5\n",
    "# if a + b:\n",
    "#     print('True')\n",
    "# else:\n",
    "#   print('False')\n",
    "\n",
    "#Output is True because both a and b are numbers that can be added together"
   ]
  },
  {
   "cell_type": "code",
   "execution_count": 23,
   "id": "f7bf8dd9",
   "metadata": {},
   "outputs": [],
   "source": [
    "CHARS_TO_MORSE_CODE_MAPPING = {\n",
    "    'A': '.-',\n",
    "    'B': '-...',\n",
    "    'C': '-.-.',\n",
    "    'D': '-..',\n",
    "    'E': '.',\n",
    "    'F': '..-.',\n",
    "    'G': '--.',\n",
    "    'H': '....',\n",
    "    'I': '..',\n",
    "    'J': '.---',\n",
    "    'K': '-.-',\n",
    "    'L': '.-..',\n",
    "    'M': '--',\n",
    "    'N': '-.',\n",
    "    'O': '---',\n",
    "    'P': '.--.',\n",
    "    'Q': '--.-',\n",
    "    'R': '.-.',\n",
    "    'S': '...',\n",
    "    'T': '-',\n",
    "    'U': '..-',\n",
    "    'V': '...-',\n",
    "    'W': '.--',\n",
    "    'X': '-..-',\n",
    "    'Y': '-.--',\n",
    "    'Z': '--..',\n",
    "    '1': '.----',\n",
    "    '2': '..---',\n",
    "    '3': '...--',\n",
    "    '4': '....-',\n",
    "    '5': '.....',\n",
    "    '6': '-....',\n",
    "    '7': '--...',\n",
    "    '8': '---..',\n",
    "    '9': '----.',\n",
    "    '0': '-----',\n",
    "    '.': '.-.-.-',\n",
    "    ',': '--..--',\n",
    "    '?': '..--..',\n",
    "    '\\'': '· − − − − ·',\n",
    "    '!': '− · − · − −',\n",
    "    '/': '− · · − ·',\n",
    "    '(': '− · − − ·',\n",
    "    ')': '− · − − · −',\n",
    "    '&': '· − · · ·',\n",
    "    ':': '− − − · · ·',\n",
    "    ';': '− · − · − ·',\n",
    "    '=': '− · · · −',\n",
    "    '+': '· − · − ·',\n",
    "    '-': '− · · · · −',\n",
    "    '_': '· · − − · −',\n",
    "    '\"': '· − · · − ·',\n",
    "    '$': '· · · − · · −',\n",
    "    '@': '· − − · − ·',\n",
    "}"
   ]
  },
  {
   "cell_type": "code",
   "execution_count": null,
   "id": "93df3ceb",
   "metadata": {},
   "outputs": [],
   "source": [
    "#My creative calculator translates english text into Morse Code. "
   ]
  },
  {
   "cell_type": "code",
   "execution_count": 29,
   "id": "bbfbeaae",
   "metadata": {},
   "outputs": [],
   "source": [
    "def calculator():\n",
    "\n",
    "    operation = input(''' \n",
    "Please type the text you would like to translate into morse code\n",
    "''') # Triple-quotes allow the string to span multiple lines\n",
    "    \n",
    "    def to_morse_code(english_plain_text):\n",
    "        morse_code = ''\n",
    "        for char in english_plain_text:\n",
    "        # checking for space\n",
    "        # to add single space after every character and double space after every word\n",
    "            if char == ' ':\n",
    "                morse_code += '  '\n",
    "            else:\n",
    "            # adding encoded morse code to the result\n",
    "                morse_code += CHARS_TO_MORSE_CODE_MAPPING[char.upper()] + ' '\n",
    "        return morse_code\n",
    "\n",
    "    morse_code = to_morse_code(operation)\n",
    "    print(morse_code)"
   ]
  },
  {
   "cell_type": "code",
   "execution_count": 31,
   "id": "cc7cf06c",
   "metadata": {},
   "outputs": [
    {
     "name": "stdout",
     "output_type": "stream",
     "text": [
      " \n",
      "Please type the text you would like to translate into morse code\n",
      "Happy Valentine's Day!\n",
      ".... .- .--. .--. -.--   ...- .- .-.. . -. - .. -. . · − − − − · ...   -.. .- -.-- − · − · − − \n"
     ]
    }
   ],
   "source": [
    "calculator()"
   ]
  }
 ],
 "metadata": {
  "kernelspec": {
   "display_name": "Python 3 (ipykernel)",
   "language": "python",
   "name": "python3"
  },
  "language_info": {
   "codemirror_mode": {
    "name": "ipython",
    "version": 3
   },
   "file_extension": ".py",
   "mimetype": "text/x-python",
   "name": "python",
   "nbconvert_exporter": "python",
   "pygments_lexer": "ipython3",
   "version": "3.9.7"
  }
 },
 "nbformat": 4,
 "nbformat_minor": 5
}
